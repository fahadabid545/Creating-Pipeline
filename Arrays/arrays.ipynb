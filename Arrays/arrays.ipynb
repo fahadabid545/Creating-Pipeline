{
 "cells": [
  {
   "cell_type": "markdown",
   "id": "eb54bb7a-c5cb-44d2-a14f-0fa32681746c",
   "metadata": {},
   "source": [
    "## LOAD NUMPY"
   ]
  },
  {
   "cell_type": "code",
   "execution_count": 2,
   "id": "2d7083b7-3660-4d42-9039-2629a4ed3c4f",
   "metadata": {},
   "outputs": [],
   "source": [
    "import numpy as np"
   ]
  },
  {
   "cell_type": "markdown",
   "id": "df3895d3-be06-49ae-9e4d-9b4ededb8da6",
   "metadata": {},
   "source": [
    "### The Basics"
   ]
  },
  {
   "cell_type": "code",
   "execution_count": 3,
   "id": "84f3c9f9-9f8c-4ccc-bacd-3cfd321ee37a",
   "metadata": {},
   "outputs": [
    {
     "name": "stdout",
     "output_type": "stream",
     "text": [
      "[1 3 4 7]\n"
     ]
    }
   ],
   "source": [
    "a=np.array([1,3,4,7])\n",
    "print(a)"
   ]
  },
  {
   "cell_type": "code",
   "execution_count": 6,
   "id": "47a9bb8d-f68b-49e3-95f3-1e530c7d0480",
   "metadata": {},
   "outputs": [
    {
     "name": "stdout",
     "output_type": "stream",
     "text": [
      "[[6 7 8]\n",
      " [3 1 7]]\n"
     ]
    }
   ],
   "source": [
    "b=np.array([[6,7,8], [3,1,7]])\n",
    "print(b)"
   ]
  },
  {
   "cell_type": "markdown",
   "id": "d46d9440-b071-4c81-9f33-0ce28561e4eb",
   "metadata": {},
   "source": [
    "### Dimensions"
   ]
  },
  {
   "cell_type": "code",
   "execution_count": 14,
   "id": "4870c2a2-2eef-4109-aeb0-4022a215af5b",
   "metadata": {},
   "outputs": [
    {
     "data": {
      "text/plain": [
       "1"
      ]
     },
     "execution_count": 14,
     "metadata": {},
     "output_type": "execute_result"
    }
   ],
   "source": [
    "a.ndim"
   ]
  },
  {
   "cell_type": "code",
   "execution_count": 16,
   "id": "f9efabb5-6944-44ba-91f6-d5a192287e3a",
   "metadata": {},
   "outputs": [
    {
     "data": {
      "text/plain": [
       "2"
      ]
     },
     "execution_count": 16,
     "metadata": {},
     "output_type": "execute_result"
    }
   ],
   "source": [
    "b.ndim"
   ]
  },
  {
   "cell_type": "markdown",
   "id": "44ac552d-f1e9-40ab-b64d-291b0c55687c",
   "metadata": {},
   "source": [
    "### Shape"
   ]
  },
  {
   "cell_type": "code",
   "execution_count": 17,
   "id": "ed4d7d1e-14e5-4e8e-91af-c26bb646ea9d",
   "metadata": {},
   "outputs": [
    {
     "data": {
      "text/plain": [
       "(4,)"
      ]
     },
     "execution_count": 17,
     "metadata": {},
     "output_type": "execute_result"
    }
   ],
   "source": [
    "a.shape"
   ]
  },
  {
   "cell_type": "code",
   "execution_count": 18,
   "id": "d870e274-0484-4354-ad78-754c9ab1471c",
   "metadata": {},
   "outputs": [
    {
     "data": {
      "text/plain": [
       "(2, 3)"
      ]
     },
     "execution_count": 18,
     "metadata": {},
     "output_type": "execute_result"
    }
   ],
   "source": [
    "b.shape"
   ]
  },
  {
   "cell_type": "markdown",
   "id": "5e2fba8a-6e51-4e73-b92c-999bbdf7fd5f",
   "metadata": {},
   "source": [
    "### Type"
   ]
  },
  {
   "cell_type": "code",
   "execution_count": 19,
   "id": "d5141715-1836-435f-9786-b5c484ca6d18",
   "metadata": {},
   "outputs": [
    {
     "data": {
      "text/plain": [
       "dtype('int64')"
      ]
     },
     "execution_count": 19,
     "metadata": {},
     "output_type": "execute_result"
    }
   ],
   "source": [
    "a.dtype"
   ]
  },
  {
   "cell_type": "code",
   "execution_count": 20,
   "id": "b9fd53a6-9a7f-4a17-9633-a9c8f1e7d19e",
   "metadata": {},
   "outputs": [
    {
     "data": {
      "text/plain": [
       "dtype('int64')"
      ]
     },
     "execution_count": 20,
     "metadata": {},
     "output_type": "execute_result"
    }
   ],
   "source": [
    "b.dtype"
   ]
  },
  {
   "cell_type": "code",
   "execution_count": 22,
   "id": "1ff198b5-5178-444c-9fb4-dd39a6107200",
   "metadata": {},
   "outputs": [
    {
     "data": {
      "text/plain": [
       "dtype('int16')"
      ]
     },
     "execution_count": 22,
     "metadata": {},
     "output_type": "execute_result"
    }
   ],
   "source": [
    "c=np.array([1,3,4,7], dtype='int16')\n",
    "c.dtype"
   ]
  },
  {
   "cell_type": "markdown",
   "id": "9ce2383b-20a9-487f-873a-505b87b42b53",
   "metadata": {},
   "source": [
    "### Size "
   ]
  },
  {
   "cell_type": "code",
   "execution_count": 23,
   "id": "b187065b-77b8-48d4-963e-277dc3537814",
   "metadata": {},
   "outputs": [
    {
     "data": {
      "text/plain": [
       "4"
      ]
     },
     "execution_count": 23,
     "metadata": {},
     "output_type": "execute_result"
    }
   ],
   "source": [
    "# size tells the number of columns or fields in the array\n",
    "a.size"
   ]
  },
  {
   "cell_type": "code",
   "execution_count": 24,
   "id": "f801bcb3-301a-41c9-9b36-3f69879e1440",
   "metadata": {},
   "outputs": [
    {
     "data": {
      "text/plain": [
       "6"
      ]
     },
     "execution_count": 24,
     "metadata": {},
     "output_type": "execute_result"
    }
   ],
   "source": [
    "b.size"
   ]
  },
  {
   "cell_type": "code",
   "execution_count": 25,
   "id": "4d546f01-d94d-4ba0-a4cc-6e7fcf74fdce",
   "metadata": {},
   "outputs": [
    {
     "data": {
      "text/plain": [
       "4"
      ]
     },
     "execution_count": 25,
     "metadata": {},
     "output_type": "execute_result"
    }
   ],
   "source": [
    "c.size"
   ]
  },
  {
   "cell_type": "code",
   "execution_count": 29,
   "id": "fa193b1c-1baa-4718-832e-2321cb9f97f5",
   "metadata": {},
   "outputs": [
    {
     "data": {
      "text/plain": [
       "8"
      ]
     },
     "execution_count": 29,
     "metadata": {},
     "output_type": "execute_result"
    }
   ],
   "source": [
    "# item size tells the memory bytes the array takes.\n",
    "a.itemsize"
   ]
  },
  {
   "cell_type": "code",
   "execution_count": 27,
   "id": "f4dd9665-2cd6-48d2-9427-05d6016f8040",
   "metadata": {},
   "outputs": [
    {
     "data": {
      "text/plain": [
       "8"
      ]
     },
     "execution_count": 27,
     "metadata": {},
     "output_type": "execute_result"
    }
   ],
   "source": [
    "b.itemsize"
   ]
  },
  {
   "cell_type": "code",
   "execution_count": 28,
   "id": "468cfdec-8e09-4b13-a811-cff18579afa5",
   "metadata": {},
   "outputs": [
    {
     "data": {
      "text/plain": [
       "2"
      ]
     },
     "execution_count": 28,
     "metadata": {},
     "output_type": "execute_result"
    }
   ],
   "source": [
    "c.itemsize"
   ]
  },
  {
   "cell_type": "code",
   "execution_count": 30,
   "id": "7a1c478a-8c78-4b91-8b8f-3a6f2673a74a",
   "metadata": {},
   "outputs": [
    {
     "data": {
      "text/plain": [
       "32"
      ]
     },
     "execution_count": 30,
     "metadata": {},
     "output_type": "execute_result"
    }
   ],
   "source": [
    "# get total size \n",
    "a.size*a.itemsize"
   ]
  },
  {
   "cell_type": "code",
   "execution_count": 31,
   "id": "9c48eb6d-4122-4a31-9ab6-b21cb795cf7c",
   "metadata": {},
   "outputs": [
    {
     "data": {
      "text/plain": [
       "32"
      ]
     },
     "execution_count": 31,
     "metadata": {},
     "output_type": "execute_result"
    }
   ],
   "source": [
    "# another simple way \n",
    "a.nbytes"
   ]
  },
  {
   "cell_type": "code",
   "execution_count": 32,
   "id": "3664ac50-5a99-436f-80ec-845f65ebd646",
   "metadata": {},
   "outputs": [
    {
     "data": {
      "text/plain": [
       "48"
      ]
     },
     "execution_count": 32,
     "metadata": {},
     "output_type": "execute_result"
    }
   ],
   "source": [
    "b.nbytes"
   ]
  },
  {
   "cell_type": "code",
   "execution_count": 33,
   "id": "b6be1039-da64-4604-a3bc-ed510858fb75",
   "metadata": {},
   "outputs": [
    {
     "data": {
      "text/plain": [
       "8"
      ]
     },
     "execution_count": 33,
     "metadata": {},
     "output_type": "execute_result"
    }
   ],
   "source": [
    "c.nbytes"
   ]
  },
  {
   "cell_type": "markdown",
   "id": "667902f5-2539-4071-9b82-5daf4f8d0f45",
   "metadata": {},
   "source": [
    "### Accessing/Changing specific Rows, Columns, Elements etc"
   ]
  },
  {
   "cell_type": "code",
   "execution_count": 36,
   "id": "21d52e4d-490b-4059-80c6-08b378177d7b",
   "metadata": {},
   "outputs": [
    {
     "name": "stdout",
     "output_type": "stream",
     "text": [
      "[[ 1  2  3  4  5]\n",
      " [ 6  7  8  9 10]]\n"
     ]
    }
   ],
   "source": [
    "a=np.array([[1,2,3,4,5], [6,7,8,9,10]])\n",
    "print(a)"
   ]
  },
  {
   "cell_type": "code",
   "execution_count": 37,
   "id": "921fdc28-34ab-42ec-b54b-157f6d22f348",
   "metadata": {},
   "outputs": [
    {
     "data": {
      "text/plain": [
       "array([1, 2, 3, 4, 5])"
      ]
     },
     "execution_count": 37,
     "metadata": {},
     "output_type": "execute_result"
    }
   ],
   "source": [
    "# Access specific Row[r,c]\n",
    "a[0,:]"
   ]
  },
  {
   "cell_type": "code",
   "execution_count": 38,
   "id": "8be3274b-06ac-42c0-a818-de698403db08",
   "metadata": {},
   "outputs": [
    {
     "data": {
      "text/plain": [
       "array([3, 8])"
      ]
     },
     "execution_count": 38,
     "metadata": {},
     "output_type": "execute_result"
    }
   ],
   "source": [
    "# Access Specif Column\n",
    "a[:, 2]"
   ]
  },
  {
   "cell_type": "code",
   "execution_count": 40,
   "id": "0c29f887-9fd8-4300-8580-02d39a4f58e1",
   "metadata": {},
   "outputs": [
    {
     "data": {
      "text/plain": [
       "array([[2, 3, 4],\n",
       "       [7, 8, 9]])"
      ]
     },
     "execution_count": 40,
     "metadata": {},
     "output_type": "execute_result"
    }
   ],
   "source": [
    "# Access in between rows\n",
    "a[:,1:4]"
   ]
  },
  {
   "cell_type": "code",
   "execution_count": 42,
   "id": "8a5264be-cc44-4096-a6a4-08413a949489",
   "metadata": {},
   "outputs": [
    {
     "data": {
      "text/plain": [
       "array([[2, 4],\n",
       "       [7, 9]])"
      ]
     },
     "execution_count": 42,
     "metadata": {},
     "output_type": "execute_result"
    }
   ],
   "source": [
    "# Jump in between rows\n",
    "a[:,1:4:2]"
   ]
  },
  {
   "cell_type": "code",
   "execution_count": 44,
   "id": "8e907a16-f44b-4ae4-a2a5-a64f11528fb2",
   "metadata": {},
   "outputs": [
    {
     "name": "stdout",
     "output_type": "stream",
     "text": [
      "[[ 1  2  3  4  5]\n",
      " [ 6  7  8 15 10]]\n"
     ]
    }
   ],
   "source": [
    "# Change specific element\n",
    "a[1,3]=15\n",
    "print(a)"
   ]
  },
  {
   "cell_type": "code",
   "execution_count": 46,
   "id": "093c2236-d42b-4ba0-86d2-7686055c032d",
   "metadata": {},
   "outputs": [
    {
     "name": "stdout",
     "output_type": "stream",
     "text": [
      "[[ 1  2  3 15  5]\n",
      " [ 6  7  8 15 10]]\n"
     ]
    }
   ],
   "source": [
    "# Change all elements in a specific column \n",
    "a[:,3]=15\n",
    "print(a)"
   ]
  },
  {
   "cell_type": "markdown",
   "id": "7f802f56-35f1-40de-812b-e0e6408e3134",
   "metadata": {},
   "source": [
    "### 3D Arrays"
   ]
  },
  {
   "cell_type": "code",
   "execution_count": 47,
   "id": "12cb6b6a-a3b4-4cba-a7c9-6b17516a9c17",
   "metadata": {},
   "outputs": [
    {
     "name": "stdout",
     "output_type": "stream",
     "text": [
      "[[[1 2]\n",
      "  [3 4]]\n",
      "\n",
      " [[5 6]\n",
      "  [7 8]]]\n"
     ]
    }
   ],
   "source": [
    "a=np.array([[[1,2],[3,4]],[[5,6],[7,8]]])\n",
    "print(a)"
   ]
  },
  {
   "cell_type": "code",
   "execution_count": 50,
   "id": "95af1f89-c4fb-418f-816a-d3e508105454",
   "metadata": {},
   "outputs": [
    {
     "data": {
      "text/plain": [
       "np.int64(3)"
      ]
     },
     "execution_count": 50,
     "metadata": {},
     "output_type": "execute_result"
    }
   ],
   "source": [
    "# Get Specific Element\n",
    "a[0,1,0]"
   ]
  },
  {
   "cell_type": "code",
   "execution_count": 52,
   "id": "8df93c16-c82f-42ab-a515-6a21bd385b79",
   "metadata": {},
   "outputs": [
    {
     "name": "stdout",
     "output_type": "stream",
     "text": [
      "[[[ 1  2]\n",
      "  [33 33]]\n",
      "\n",
      " [[ 5  6]\n",
      "  [88 88]]]\n"
     ]
    }
   ],
   "source": [
    "# Replace\n",
    "a[:,1,:]=[[33,33],[88,88]]\n",
    "print(a)"
   ]
  },
  {
   "cell_type": "markdown",
   "id": "af32eef0-6e93-45b4-8765-6a28fe818a9d",
   "metadata": {},
   "source": [
    "### Initializing Different Types of Arrays"
   ]
  },
  {
   "cell_type": "code",
   "execution_count": 59,
   "id": "b7f4489f-0d53-4c1d-96a5-e3960ffef474",
   "metadata": {},
   "outputs": [
    {
     "data": {
      "text/plain": [
       "array([0, 0, 0, 0, 0])"
      ]
     },
     "execution_count": 59,
     "metadata": {},
     "output_type": "execute_result"
    }
   ],
   "source": [
    "# 1D array\n",
    "np.zeros(5,dtype='int')"
   ]
  },
  {
   "cell_type": "code",
   "execution_count": 58,
   "id": "7bcd0774-5622-40cd-94f4-c3b84b6b4c38",
   "metadata": {},
   "outputs": [
    {
     "data": {
      "text/plain": [
       "array([[0, 0, 0, 0, 0],\n",
       "       [0, 0, 0, 0, 0],\n",
       "       [0, 0, 0, 0, 0],\n",
       "       [0, 0, 0, 0, 0],\n",
       "       [0, 0, 0, 0, 0]])"
      ]
     },
     "execution_count": 58,
     "metadata": {},
     "output_type": "execute_result"
    }
   ],
   "source": [
    "# 2D Array\n",
    "np.zeros((5,5),dtype='int')"
   ]
  },
  {
   "cell_type": "code",
   "execution_count": 61,
   "id": "2c08c47f-a146-4027-a055-d1a99b051c2a",
   "metadata": {},
   "outputs": [
    {
     "data": {
      "text/plain": [
       "array([[[0, 0, 0],\n",
       "        [0, 0, 0],\n",
       "        [0, 0, 0]],\n",
       "\n",
       "       [[0, 0, 0],\n",
       "        [0, 0, 0],\n",
       "        [0, 0, 0]]])"
      ]
     },
     "execution_count": 61,
     "metadata": {},
     "output_type": "execute_result"
    }
   ],
   "source": [
    "# 3D array\n",
    "np.zeros((2,3,3), dtype='int')"
   ]
  },
  {
   "cell_type": "code",
   "execution_count": 63,
   "id": "75077b8c-909c-4acd-b519-aeaa3797f58d",
   "metadata": {},
   "outputs": [
    {
     "data": {
      "text/plain": [
       "array([[[[0, 0, 0, 0, 0],\n",
       "         [0, 0, 0, 0, 0]],\n",
       "\n",
       "        [[0, 0, 0, 0, 0],\n",
       "         [0, 0, 0, 0, 0]],\n",
       "\n",
       "        [[0, 0, 0, 0, 0],\n",
       "         [0, 0, 0, 0, 0]]],\n",
       "\n",
       "\n",
       "       [[[0, 0, 0, 0, 0],\n",
       "         [0, 0, 0, 0, 0]],\n",
       "\n",
       "        [[0, 0, 0, 0, 0],\n",
       "         [0, 0, 0, 0, 0]],\n",
       "\n",
       "        [[0, 0, 0, 0, 0],\n",
       "         [0, 0, 0, 0, 0]]]])"
      ]
     },
     "execution_count": 63,
     "metadata": {},
     "output_type": "execute_result"
    }
   ],
   "source": [
    "# 4D array\n",
    "np.zeros((2,3,2,5), dtype='int')"
   ]
  },
  {
   "cell_type": "code",
   "execution_count": 64,
   "id": "51d14674-3e04-4368-bd4e-de1485521267",
   "metadata": {},
   "outputs": [
    {
     "data": {
      "text/plain": [
       "array([[1, 1, 1, 1],\n",
       "       [1, 1, 1, 1],\n",
       "       [1, 1, 1, 1],\n",
       "       [1, 1, 1, 1]])"
      ]
     },
     "execution_count": 64,
     "metadata": {},
     "output_type": "execute_result"
    }
   ],
   "source": [
    "np.ones((4,4),dtype='int')"
   ]
  },
  {
   "cell_type": "code",
   "execution_count": 65,
   "id": "78e9d716-0ae6-4065-8868-fba9a14b48e0",
   "metadata": {},
   "outputs": [
    {
     "data": {
      "text/plain": [
       "array([[11, 11],\n",
       "       [11, 11]])"
      ]
     },
     "execution_count": 65,
     "metadata": {},
     "output_type": "execute_result"
    }
   ],
   "source": [
    "np.full((2,2),11)"
   ]
  },
  {
   "cell_type": "code",
   "execution_count": 70,
   "id": "bd66596c-a343-4cd1-b156-f8f32a80f0d6",
   "metadata": {},
   "outputs": [
    {
     "data": {
      "text/plain": [
       "array([[4, 4, 4, 4, 4],\n",
       "       [4, 4, 4, 4, 4]])"
      ]
     },
     "execution_count": 70,
     "metadata": {},
     "output_type": "execute_result"
    }
   ],
   "source": [
    "# will call the last variable 'a'\n",
    "np.full(a.shape,4)"
   ]
  },
  {
   "cell_type": "code",
   "execution_count": 71,
   "id": "98513aa7-6356-402c-99ae-292b3466384f",
   "metadata": {},
   "outputs": [
    {
     "data": {
      "text/plain": [
       "array([[4, 4, 4, 4, 4],\n",
       "       [4, 4, 4, 4, 4]])"
      ]
     },
     "execution_count": 71,
     "metadata": {},
     "output_type": "execute_result"
    }
   ],
   "source": [
    "np.full_like(a,4)"
   ]
  },
  {
   "cell_type": "code",
   "execution_count": 72,
   "id": "044c5c3b-d68f-4764-8a63-6f76bf7be146",
   "metadata": {},
   "outputs": [
    {
     "data": {
      "text/plain": [
       "array([[0.8085317 , 0.54715249],\n",
       "       [0.80316105, 0.41777367],\n",
       "       [0.45330655, 0.89232397],\n",
       "       [0.06181915, 0.94222738]])"
      ]
     },
     "execution_count": 72,
     "metadata": {},
     "output_type": "execute_result"
    }
   ],
   "source": [
    "#Random Decimal Elements\n",
    "np.random.rand(4,2)"
   ]
  },
  {
   "cell_type": "code",
   "execution_count": 76,
   "id": "182d57be-6f5c-4eed-906f-29e5ea7fc1c7",
   "metadata": {},
   "outputs": [
    {
     "data": {
      "text/plain": [
       "array([[7, 9, 9],\n",
       "       [5, 6, 5],\n",
       "       [5, 9, 6]], dtype=int32)"
      ]
     },
     "execution_count": 76,
     "metadata": {},
     "output_type": "execute_result"
    }
   ],
   "source": [
    "# Random Integer Elements between 5 to 10\n",
    "np.random.randint(5,10,size=(3,3))"
   ]
  },
  {
   "cell_type": "code",
   "execution_count": 78,
   "id": "51a41fb2-9f0e-4b13-b570-81be21084a35",
   "metadata": {},
   "outputs": [
    {
     "data": {
      "text/plain": [
       "array([[1, 0, 0, 0, 0],\n",
       "       [0, 1, 0, 0, 0],\n",
       "       [0, 0, 1, 0, 0],\n",
       "       [0, 0, 0, 1, 0],\n",
       "       [0, 0, 0, 0, 1]])"
      ]
     },
     "execution_count": 78,
     "metadata": {},
     "output_type": "execute_result"
    }
   ],
   "source": [
    "# Identity Matrix (Square Matrix)\n",
    "np.identity(5, dtype='int')"
   ]
  },
  {
   "cell_type": "code",
   "execution_count": 81,
   "id": "85d01125-0dce-4a4d-9637-20ad5abe3570",
   "metadata": {},
   "outputs": [
    {
     "name": "stdout",
     "output_type": "stream",
     "text": [
      "[1 1 1 2 2 2 3 3 3]\n"
     ]
    }
   ],
   "source": [
    "#Repeat an array horizontally \n",
    "arr=np.array([1,2,3])\n",
    "r=np.repeat(arr,3,axis=0)\n",
    "print(r)"
   ]
  },
  {
   "cell_type": "code",
   "execution_count": 84,
   "id": "e6546487-9b77-4349-9dc1-a6e583ee284a",
   "metadata": {},
   "outputs": [
    {
     "name": "stdout",
     "output_type": "stream",
     "text": [
      "[[1 2 3]\n",
      " [1 2 3]\n",
      " [1 2 3]]\n"
     ]
    }
   ],
   "source": [
    "# Repeat an arrray vertically\n",
    "arr=np.array([[1,2,3]])\n",
    "r=np.repeat(arr,3,axis=0)\n",
    "print(r)"
   ]
  },
  {
   "cell_type": "code",
   "execution_count": 89,
   "id": "e8cd7aaf-1f4d-40fd-94ca-5f7d1b7cdde6",
   "metadata": {},
   "outputs": [
    {
     "data": {
      "text/plain": [
       "array([[1, 1, 1, 1, 1],\n",
       "       [1, 0, 0, 0, 1],\n",
       "       [1, 0, 9, 0, 1],\n",
       "       [1, 0, 0, 0, 1],\n",
       "       [1, 1, 1, 1, 1]])"
      ]
     },
     "execution_count": 89,
     "metadata": {},
     "output_type": "execute_result"
    }
   ],
   "source": [
    "# Solution\n",
    "o=np.ones((5,5),dtype='int')\n",
    "z=np.zeros((3,3))\n",
    "z[1,1]=9\n",
    "o[1:-1,1:-1]=z\n",
    "print(o)"
   ]
  },
  {
   "cell_type": "markdown",
   "id": "55524add-cc51-4b78-a02b-864b0360171c",
   "metadata": {},
   "source": [
    "### Copying Array"
   ]
  },
  {
   "cell_type": "code",
   "execution_count": 93,
   "id": "0417df3b-df61-456f-9af8-dd79b3aea8ce",
   "metadata": {},
   "outputs": [
    {
     "name": "stdout",
     "output_type": "stream",
     "text": [
      "[1 2 3]\n",
      "[100   2   3]\n"
     ]
    }
   ],
   "source": [
    "a=np.array([1,2,3])\n",
    "b=a.copy()\n",
    "b[0]=100\n",
    "print(a)\n",
    "print(b)"
   ]
  },
  {
   "cell_type": "markdown",
   "id": "e02a28e2-145b-4cd7-a27d-f87153d32c31",
   "metadata": {},
   "source": [
    "### Mathematics"
   ]
  },
  {
   "cell_type": "code",
   "execution_count": 94,
   "id": "181f6f6e-913f-4e36-839f-ffe6a9dd9cae",
   "metadata": {},
   "outputs": [
    {
     "data": {
      "text/plain": [
       "array([1, 2, 3, 4])"
      ]
     },
     "execution_count": 94,
     "metadata": {},
     "output_type": "execute_result"
    }
   ],
   "source": [
    "a=np.array([1,2,3,4])\n",
    "a"
   ]
  },
  {
   "cell_type": "code",
   "execution_count": 95,
   "id": "f911ae69-8d7e-450e-ab0d-54f64bb8e490",
   "metadata": {},
   "outputs": [
    {
     "data": {
      "text/plain": [
       "array([3, 4, 5, 6])"
      ]
     },
     "execution_count": 95,
     "metadata": {},
     "output_type": "execute_result"
    }
   ],
   "source": [
    "a+2"
   ]
  },
  {
   "cell_type": "code",
   "execution_count": 96,
   "id": "05431934-5360-44b7-b944-e3fbdb120f30",
   "metadata": {},
   "outputs": [
    {
     "data": {
      "text/plain": [
       "array([-1,  0,  1,  2])"
      ]
     },
     "execution_count": 96,
     "metadata": {},
     "output_type": "execute_result"
    }
   ],
   "source": [
    "a-2"
   ]
  },
  {
   "cell_type": "code",
   "execution_count": 97,
   "id": "e9dbbab1-d89d-4c82-bd5d-a38d2174624c",
   "metadata": {},
   "outputs": [
    {
     "data": {
      "text/plain": [
       "array([ 1,  4,  9, 16])"
      ]
     },
     "execution_count": 97,
     "metadata": {},
     "output_type": "execute_result"
    }
   ],
   "source": [
    "a**2"
   ]
  },
  {
   "cell_type": "code",
   "execution_count": 98,
   "id": "61728cc3-7055-43cf-af8a-2048e52c7fdf",
   "metadata": {},
   "outputs": [
    {
     "data": {
      "text/plain": [
       "array([0.5, 1. , 1.5, 2. ])"
      ]
     },
     "execution_count": 98,
     "metadata": {},
     "output_type": "execute_result"
    }
   ],
   "source": [
    "a/2"
   ]
  },
  {
   "cell_type": "code",
   "execution_count": 99,
   "id": "ac96b034-2f78-4eba-8782-f557a430e870",
   "metadata": {},
   "outputs": [
    {
     "data": {
      "text/plain": [
       "array([1, 0, 1, 0])"
      ]
     },
     "execution_count": 99,
     "metadata": {},
     "output_type": "execute_result"
    }
   ],
   "source": [
    "b=np.array([1,0,1,0])\n",
    "b"
   ]
  },
  {
   "cell_type": "code",
   "execution_count": 100,
   "id": "270062d3-5395-4261-8db1-b251c6d4425f",
   "metadata": {},
   "outputs": [
    {
     "data": {
      "text/plain": [
       "array([2, 2, 4, 4])"
      ]
     },
     "execution_count": 100,
     "metadata": {},
     "output_type": "execute_result"
    }
   ],
   "source": [
    "a+b"
   ]
  },
  {
   "cell_type": "code",
   "execution_count": 101,
   "id": "deeeade3-bd27-4e43-9bad-409c96e03f44",
   "metadata": {},
   "outputs": [
    {
     "data": {
      "text/plain": [
       "array([ 0.84147098,  0.90929743,  0.14112001, -0.7568025 ])"
      ]
     },
     "execution_count": 101,
     "metadata": {},
     "output_type": "execute_result"
    }
   ],
   "source": [
    "# Try Trignometry\n",
    "np.sin(a)"
   ]
  },
  {
   "cell_type": "code",
   "execution_count": 102,
   "id": "b7f65f8e-3bc4-40b9-897e-8cbeaa7105ad",
   "metadata": {},
   "outputs": [
    {
     "data": {
      "text/plain": [
       "array([ 0.54030231, -0.41614684, -0.9899925 , -0.65364362])"
      ]
     },
     "execution_count": 102,
     "metadata": {},
     "output_type": "execute_result"
    }
   ],
   "source": [
    "np.cos(a)"
   ]
  },
  {
   "cell_type": "code",
   "execution_count": 103,
   "id": "54480bef-9b45-4a7d-a274-5c7e4d0d4df8",
   "metadata": {},
   "outputs": [
    {
     "data": {
      "text/plain": [
       "array([ 1.55740772, -2.18503986, -0.14254654,  1.15782128])"
      ]
     },
     "execution_count": 103,
     "metadata": {},
     "output_type": "execute_result"
    }
   ],
   "source": [
    "np.tan(a)"
   ]
  },
  {
   "cell_type": "markdown",
   "id": "fac92600-76ed-4231-88cb-fd4efd62ab4a",
   "metadata": {},
   "source": [
    "### Some Basic Linear Algebra"
   ]
  },
  {
   "cell_type": "code",
   "execution_count": 105,
   "id": "50827480-b55e-4f44-9c09-9827dcc73e38",
   "metadata": {},
   "outputs": [
    {
     "data": {
      "text/plain": [
       "array([[6, 6],\n",
       "       [6, 6]])"
      ]
     },
     "execution_count": 105,
     "metadata": {},
     "output_type": "execute_result"
    }
   ],
   "source": [
    "# Matrix Multiplication\n",
    "a=np.ones((2,3), dtype='int')\n",
    "b=np.full((3,2),2)\n",
    "np.matmul(a,b)"
   ]
  },
  {
   "cell_type": "code",
   "execution_count": 106,
   "id": "c17ea4ae-765b-4401-8e29-8260389b3a22",
   "metadata": {},
   "outputs": [
    {
     "data": {
      "text/plain": [
       "np.float64(1.0)"
      ]
     },
     "execution_count": 106,
     "metadata": {},
     "output_type": "execute_result"
    }
   ],
   "source": [
    "# Find Determinant\n",
    "c=np.identity(5)\n",
    "np.linalg.det(c)"
   ]
  },
  {
   "cell_type": "markdown",
   "id": "a2fe63d8-91d8-4f3d-9043-448d6b8b7696",
   "metadata": {},
   "source": [
    "### Statistics"
   ]
  },
  {
   "cell_type": "code",
   "execution_count": 118,
   "id": "5027f2b4-5802-4db4-aed4-89685934a75d",
   "metadata": {},
   "outputs": [
    {
     "data": {
      "text/plain": [
       "array([[1, 2, 9, 4],\n",
       "       [5, 6, 7, 8]])"
      ]
     },
     "execution_count": 118,
     "metadata": {},
     "output_type": "execute_result"
    }
   ],
   "source": [
    "stats=np.array([[1,2,9,4],[5,6,7,8]])\n",
    "stats"
   ]
  },
  {
   "cell_type": "code",
   "execution_count": 119,
   "id": "7adda2f8-526d-47c5-929c-5baaaaed1c14",
   "metadata": {},
   "outputs": [
    {
     "data": {
      "text/plain": [
       "np.int64(1)"
      ]
     },
     "execution_count": 119,
     "metadata": {},
     "output_type": "execute_result"
    }
   ],
   "source": [
    "np.min(stats)"
   ]
  },
  {
   "cell_type": "code",
   "execution_count": 121,
   "id": "b191c7f8-3d7f-4d19-a115-624f18f82f90",
   "metadata": {},
   "outputs": [
    {
     "data": {
      "text/plain": [
       "array([1, 2, 7, 4])"
      ]
     },
     "execution_count": 121,
     "metadata": {},
     "output_type": "execute_result"
    }
   ],
   "source": [
    "np.min(stats, axis=0)"
   ]
  },
  {
   "cell_type": "code",
   "execution_count": 122,
   "id": "b24809c3-4420-4b1a-8f51-834ff0c51c70",
   "metadata": {},
   "outputs": [
    {
     "data": {
      "text/plain": [
       "array([1, 5])"
      ]
     },
     "execution_count": 122,
     "metadata": {},
     "output_type": "execute_result"
    }
   ],
   "source": [
    "np.min(stats, axis=1)"
   ]
  },
  {
   "cell_type": "code",
   "execution_count": 123,
   "id": "ec6d6a08-57a5-4083-8810-d160f3219684",
   "metadata": {},
   "outputs": [
    {
     "data": {
      "text/plain": [
       "np.int64(9)"
      ]
     },
     "execution_count": 123,
     "metadata": {},
     "output_type": "execute_result"
    }
   ],
   "source": [
    "np.max(stats)"
   ]
  },
  {
   "cell_type": "code",
   "execution_count": 124,
   "id": "cfaf1ec8-62c4-44d3-97c3-68fa39c5c725",
   "metadata": {},
   "outputs": [
    {
     "data": {
      "text/plain": [
       "array([5, 6, 9, 8])"
      ]
     },
     "execution_count": 124,
     "metadata": {},
     "output_type": "execute_result"
    }
   ],
   "source": [
    "np.max(stats,axis=0)"
   ]
  },
  {
   "cell_type": "code",
   "execution_count": 125,
   "id": "dd0bad21-5c67-490f-ab7f-221a5a47c902",
   "metadata": {},
   "outputs": [
    {
     "data": {
      "text/plain": [
       "array([9, 8])"
      ]
     },
     "execution_count": 125,
     "metadata": {},
     "output_type": "execute_result"
    }
   ],
   "source": [
    "np.max(stats,axis=1)"
   ]
  },
  {
   "cell_type": "code",
   "execution_count": 126,
   "id": "472ac683-c773-47c1-836e-9ab3bb0d2e83",
   "metadata": {},
   "outputs": [
    {
     "data": {
      "text/plain": [
       "np.int64(42)"
      ]
     },
     "execution_count": 126,
     "metadata": {},
     "output_type": "execute_result"
    }
   ],
   "source": [
    "np.sum(stats)"
   ]
  },
  {
   "cell_type": "code",
   "execution_count": 127,
   "id": "addc473f-0feb-4850-8983-e21d653c0fd7",
   "metadata": {},
   "outputs": [
    {
     "data": {
      "text/plain": [
       "array([ 6,  8, 16, 12])"
      ]
     },
     "execution_count": 127,
     "metadata": {},
     "output_type": "execute_result"
    }
   ],
   "source": [
    "np.sum(stats,axis=0)"
   ]
  },
  {
   "cell_type": "code",
   "execution_count": 128,
   "id": "e1d869b2-7c4e-44d0-8b7d-14d9d6b52221",
   "metadata": {},
   "outputs": [
    {
     "data": {
      "text/plain": [
       "array([16, 26])"
      ]
     },
     "execution_count": 128,
     "metadata": {},
     "output_type": "execute_result"
    }
   ],
   "source": [
    "np.sum(stats,axis=1)"
   ]
  },
  {
   "cell_type": "markdown",
   "id": "935f31cd-fafa-4090-87ea-b48c5bfc6db4",
   "metadata": {},
   "source": [
    "### Reorganizing Arrays"
   ]
  },
  {
   "cell_type": "code",
   "execution_count": 129,
   "id": "d94413ea-a2cf-4c67-9e5e-869dde6d17b9",
   "metadata": {},
   "outputs": [
    {
     "data": {
      "text/plain": [
       "array([[1, 2],\n",
       "       [9, 4],\n",
       "       [5, 6],\n",
       "       [7, 8]])"
      ]
     },
     "execution_count": 129,
     "metadata": {},
     "output_type": "execute_result"
    }
   ],
   "source": [
    "before=np.array([[1,2,9,4],[5,6,7,8]])\n",
    "after=before.reshape(4,2)  # Reshape to 2D Array\n",
    "after"
   ]
  },
  {
   "cell_type": "code",
   "execution_count": 131,
   "id": "9f513369-bcb0-4602-9c36-d553d5efefc8",
   "metadata": {},
   "outputs": [
    {
     "data": {
      "text/plain": [
       "array([[[1, 2],\n",
       "        [9, 4]],\n",
       "\n",
       "       [[5, 6],\n",
       "        [7, 8]]])"
      ]
     },
     "execution_count": 131,
     "metadata": {},
     "output_type": "execute_result"
    }
   ],
   "source": [
    "after=before.reshape(2,2,2)  # Reshape to 3D Array\n",
    "after"
   ]
  },
  {
   "cell_type": "code",
   "execution_count": 132,
   "id": "56ce2d2f-5503-4abe-b2d0-5234be44195a",
   "metadata": {},
   "outputs": [
    {
     "data": {
      "text/plain": [
       "array([[1, 2, 3, 4],\n",
       "       [5, 6, 7, 8]])"
      ]
     },
     "execution_count": 132,
     "metadata": {},
     "output_type": "execute_result"
    }
   ],
   "source": [
    "# Vertiacl Stacking of Arrays\n",
    "a=np.array([1,2,3,4])\n",
    "b=np.array([5,6,7,8])\n",
    "np.vstack([a,b])"
   ]
  },
  {
   "cell_type": "code",
   "execution_count": 133,
   "id": "5caadee9-57c7-4f3a-a8d0-16e0f963b80d",
   "metadata": {},
   "outputs": [
    {
     "data": {
      "text/plain": [
       "array([[1, 2, 3, 4],\n",
       "       [5, 6, 7, 8],\n",
       "       [1, 2, 3, 4],\n",
       "       [5, 6, 7, 8]])"
      ]
     },
     "execution_count": 133,
     "metadata": {},
     "output_type": "execute_result"
    }
   ],
   "source": [
    "np.vstack([a,b,a,b])"
   ]
  },
  {
   "cell_type": "code",
   "execution_count": 135,
   "id": "1a33523b-8f19-4052-a2d0-80d7743e3a49",
   "metadata": {},
   "outputs": [
    {
     "data": {
      "text/plain": [
       "array([1, 2, 3, 4, 5, 6, 7, 8])"
      ]
     },
     "execution_count": 135,
     "metadata": {},
     "output_type": "execute_result"
    }
   ],
   "source": [
    "# Horizontal Stacking of Arrays\n",
    "np.hstack([a,b])"
   ]
  },
  {
   "cell_type": "markdown",
   "id": "e79e06da-9355-4b13-9efe-bdaf4467a216",
   "metadata": {},
   "source": [
    "### Load Data From File"
   ]
  },
  {
   "cell_type": "code",
   "execution_count": 146,
   "id": "02888c7f-e428-4ea2-a977-a1c713f10d8f",
   "metadata": {},
   "outputs": [
    {
     "data": {
      "text/plain": [
       "array([[  1,   2,   4,  55,  77,   1,   2,  44,   2,   9],\n",
       "       [  3,   5,   6,  88,  43,   5,  12, 543,   1,   3],\n",
       "       [ 11,  44,  99,  32,   2,  77,  31,  23,   7,   8]], dtype=int32)"
      ]
     },
     "execution_count": 146,
     "metadata": {},
     "output_type": "execute_result"
    }
   ],
   "source": [
    "file = np.genfromtxt('C:/Users/fahad/Desktop/data.txt', delimiter=',')\n",
    "filedata=file.astype('int32')\n",
    "filedata"
   ]
  },
  {
   "cell_type": "markdown",
   "id": "62dbdb5c-1c8e-441c-8702-8059871d29cd",
   "metadata": {},
   "source": [
    "### Boolean Masking and Advanced Indexing"
   ]
  },
  {
   "cell_type": "code",
   "execution_count": 147,
   "id": "fffbb4b9-e0ff-4c89-96dc-f1de88a1ccd0",
   "metadata": {},
   "outputs": [
    {
     "data": {
      "text/plain": [
       "array([[False, False, False,  True,  True, False, False, False, False,\n",
       "        False],\n",
       "       [False, False, False,  True, False, False, False,  True, False,\n",
       "        False],\n",
       "       [False, False,  True, False, False,  True, False, False, False,\n",
       "        False]])"
      ]
     },
     "execution_count": 147,
     "metadata": {},
     "output_type": "execute_result"
    }
   ],
   "source": [
    "filedata>50"
   ]
  },
  {
   "cell_type": "code",
   "execution_count": 149,
   "id": "b3bc6ed6-5351-43c7-a327-42b40823d29a",
   "metadata": {},
   "outputs": [
    {
     "data": {
      "text/plain": [
       "array([ 55,  77,  88, 543,  99,  77], dtype=int32)"
      ]
     },
     "execution_count": 149,
     "metadata": {},
     "output_type": "execute_result"
    }
   ],
   "source": [
    "filedata[filedata>50]"
   ]
  },
  {
   "cell_type": "code",
   "execution_count": 150,
   "id": "0e7a6dda-39d2-4226-81c8-ecd4474e7b44",
   "metadata": {},
   "outputs": [
    {
     "data": {
      "text/plain": [
       "array([False, False,  True,  True,  True,  True, False,  True, False,\n",
       "       False])"
      ]
     },
     "execution_count": 150,
     "metadata": {},
     "output_type": "execute_result"
    }
   ],
   "source": [
    "np.any(filedata>50,axis=0)"
   ]
  },
  {
   "cell_type": "code",
   "execution_count": 151,
   "id": "8f73a1fd-79f0-4509-9ea5-d88a35d88b43",
   "metadata": {},
   "outputs": [
    {
     "data": {
      "text/plain": [
       "array([[False, False, False,  True,  True, False, False, False, False,\n",
       "        False],\n",
       "       [False, False, False,  True, False, False, False, False, False,\n",
       "        False],\n",
       "       [False, False,  True, False, False,  True, False, False, False,\n",
       "        False]])"
      ]
     },
     "execution_count": 151,
     "metadata": {},
     "output_type": "execute_result"
    }
   ],
   "source": [
    "((filedata>50)&(filedata<100))"
   ]
  },
  {
   "cell_type": "code",
   "execution_count": 152,
   "id": "dbf4c3d1-0b12-4c25-9e3b-61307ebb0acc",
   "metadata": {},
   "outputs": [
    {
     "data": {
      "text/plain": [
       "array([[ True,  True,  True, False, False,  True,  True,  True,  True,\n",
       "         True],\n",
       "       [ True,  True,  True, False,  True,  True,  True,  True,  True,\n",
       "         True],\n",
       "       [ True,  True, False,  True,  True, False,  True,  True,  True,\n",
       "         True]])"
      ]
     },
     "execution_count": 152,
     "metadata": {},
     "output_type": "execute_result"
    }
   ],
   "source": [
    "(~((filedata>50)&(filedata<100)))"
   ]
  }
 ],
 "metadata": {
  "kernelspec": {
   "display_name": "Python 3 (ipykernel)",
   "language": "python",
   "name": "python3"
  },
  "language_info": {
   "codemirror_mode": {
    "name": "ipython",
    "version": 3
   },
   "file_extension": ".py",
   "mimetype": "text/x-python",
   "name": "python",
   "nbconvert_exporter": "python",
   "pygments_lexer": "ipython3",
   "version": "3.12.4"
  }
 },
 "nbformat": 4,
 "nbformat_minor": 5
}
